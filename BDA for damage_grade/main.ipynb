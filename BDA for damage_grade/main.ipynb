{
 "cells": [
  {
   "cell_type": "markdown",
   "metadata": {},
   "source": [
    "加入后验信息的结果比较好，但能不能用是个问题"
   ]
  },
  {
   "cell_type": "markdown",
   "metadata": {},
   "source": [
    "主要考虑过的特征工程方法有:1、foundation_type可以进行合并，分为两类；\n",
    "\n",
    "2.数值变量可以考虑做一定的变换，如对数变换、平方根变换、幂变换\n",
    "\n",
    "(效果都不好）"
   ]
  },
  {
   "cell_type": "code",
   "execution_count": 41,
   "metadata": {},
   "outputs": [],
   "source": [
    "import numpy as np \n",
    "import matplotlib.pyplot as plt \n",
    "import pandas as pd \n",
    "import seaborn as sns"
   ]
  },
  {
   "cell_type": "code",
   "execution_count": 42,
   "metadata": {},
   "outputs": [],
   "source": [
    "raw_structure_data = pd.read_csv('csv_building_structure.csv')"
   ]
  },
  {
   "cell_type": "code",
   "execution_count": 43,
   "metadata": {},
   "outputs": [
    {
     "name": "stdout",
     "output_type": "stream",
     "text": [
      "<class 'pandas.core.frame.DataFrame'>\n",
      "Int64Index: 762094 entries, 0 to 762105\n",
      "Data columns (total 31 columns):\n",
      " #   Column                                  Non-Null Count   Dtype \n",
      "---  ------                                  --------------   ----- \n",
      " 0   building_id                             762094 non-null  int64 \n",
      " 1   district_id                             762094 non-null  int64 \n",
      " 2   vdcmun_id                               762094 non-null  int64 \n",
      " 3   ward_id                                 762094 non-null  int64 \n",
      " 4   count_floors_pre_eq                     762094 non-null  int64 \n",
      " 5   count_floors_post_eq                    762094 non-null  int64 \n",
      " 6   age_building                            762094 non-null  int64 \n",
      " 7   plinth_area_sq_ft                       762094 non-null  int64 \n",
      " 8   height_ft_pre_eq                        762094 non-null  int64 \n",
      " 9   height_ft_post_eq                       762094 non-null  int64 \n",
      " 10  land_surface_condition                  762094 non-null  object\n",
      " 11  foundation_type                         762094 non-null  object\n",
      " 12  roof_type                               762094 non-null  object\n",
      " 13  ground_floor_type                       762094 non-null  object\n",
      " 14  other_floor_type                        762094 non-null  object\n",
      " 15  position                                762094 non-null  object\n",
      " 16  plan_configuration                      762094 non-null  object\n",
      " 17  has_superstructure_adobe_mud            762094 non-null  int64 \n",
      " 18  has_superstructure_mud_mortar_stone     762094 non-null  int64 \n",
      " 19  has_superstructure_stone_flag           762094 non-null  int64 \n",
      " 20  has_superstructure_cement_mortar_stone  762094 non-null  int64 \n",
      " 21  has_superstructure_mud_mortar_brick     762094 non-null  int64 \n",
      " 22  has_superstructure_cement_mortar_brick  762094 non-null  int64 \n",
      " 23  has_superstructure_timber               762094 non-null  int64 \n",
      " 24  has_superstructure_bamboo               762094 non-null  int64 \n",
      " 25  has_superstructure_rc_non_engineered    762094 non-null  int64 \n",
      " 26  has_superstructure_rc_engineered        762094 non-null  int64 \n",
      " 27  has_superstructure_other                762094 non-null  int64 \n",
      " 28  condition_post_eq                       762094 non-null  object\n",
      " 29  damage_grade                            762094 non-null  object\n",
      " 30  technical_solution_proposed             762094 non-null  object\n",
      "dtypes: int64(21), object(10)\n",
      "memory usage: 186.1+ MB\n"
     ]
    }
   ],
   "source": [
    "raw_structure_data.dropna(inplace=True)\n",
    "raw_structure_data.info()"
   ]
  },
  {
   "cell_type": "code",
   "execution_count": 44,
   "metadata": {},
   "outputs": [],
   "source": [
    "distrct_map = pd.read_csv(\"ward_vdcmun_district_name_mapping.csv\")\n",
    "structure_data = pd.merge(raw_structure_data, distrct_map, on=['ward_id', 'vdcmun_id', 'district_id'], how='left')"
   ]
  },
  {
   "cell_type": "code",
   "execution_count": 45,
   "metadata": {},
   "outputs": [],
   "source": [
    "structure_data = structure_data.drop(['building_id', 'district_id', 'vdcmun_id', 'ward_id','condition_post_eq', 'technical_solution_proposed', 'vdcmun_name'], axis=1)"
   ]
  },
  {
   "cell_type": "code",
   "execution_count": 46,
   "metadata": {},
   "outputs": [
    {
     "data": {
      "text/plain": [
       "Grade 5    275766\n",
       "Grade 4    183844\n",
       "Grade 3    136412\n",
       "Grade 2     87257\n",
       "Grade 1     78815\n",
       "Name: damage_grade, dtype: int64"
      ]
     },
     "execution_count": 46,
     "metadata": {},
     "output_type": "execute_result"
    }
   ],
   "source": [
    "structure_data['damage_grade'].value_counts()"
   ]
  },
  {
   "cell_type": "code",
   "execution_count": 47,
   "metadata": {},
   "outputs": [],
   "source": [
    "structure_data['net_rooms'] = structure_data.count_floors_post_eq - structure_data.count_floors_pre_eq\n",
    "structure_data['net_height'] = structure_data.height_ft_post_eq - structure_data.height_ft_pre_eq"
   ]
  },
  {
   "cell_type": "code",
   "execution_count": 48,
   "metadata": {},
   "outputs": [],
   "source": [
    "structure_data = structure_data.drop(['count_floors_post_eq','count_floors_pre_eq','height_ft_post_eq','height_ft_post_eq'], axis=1)"
   ]
  },
  {
   "cell_type": "code",
   "execution_count": 49,
   "metadata": {},
   "outputs": [],
   "source": [
    "structure_data['foundation_type'] = structure_data['foundation_type'].replace(['Bamboo/Timber', 'Cement-Stone/Brick', 'RC'], 'Other')"
   ]
  },
  {
   "cell_type": "code",
   "execution_count": 50,
   "metadata": {},
   "outputs": [],
   "source": [
    "severity_mapping = {'Grade 1': 1, 'Grade 2': 2, 'Grade 3': 3, 'Grade 4': 4, 'Grade 5': 5}\n",
    "structure_data['damage_grade'] = structure_data['damage_grade'].map(severity_mapping)"
   ]
  },
  {
   "cell_type": "code",
   "execution_count": 51,
   "metadata": {},
   "outputs": [],
   "source": [
    "columns_to_encode = ['land_surface_condition', 'foundation_type', 'roof_type', 'ground_floor_type',\n",
    "                      'other_floor_type', 'position', 'plan_configuration']\n",
    "\n",
    "structure_data = pd.get_dummies(structure_data, columns=columns_to_encode)"
   ]
  },
  {
   "cell_type": "code",
   "execution_count": 52,
   "metadata": {},
   "outputs": [
    {
     "data": {
      "text/plain": [
       "Kavrepalanchok    98019\n",
       "Makwanpur         90994\n",
       "Dhading           89122\n",
       "Sindhupalchok     88741\n",
       "Gorkha            78074\n",
       "Nuwakot           77148\n",
       "Sindhuli          68749\n",
       "Dolakha           60639\n",
       "Ramechhap         58612\n",
       "Okhaldhunga       39352\n",
       "Rasuwa            12644\n",
       "Name: district_name, dtype: int64"
      ]
     },
     "execution_count": 52,
     "metadata": {},
     "output_type": "execute_result"
    }
   ],
   "source": [
    "structure_data['district_name'].value_counts()"
   ]
  },
  {
   "cell_type": "code",
   "execution_count": 53,
   "metadata": {},
   "outputs": [],
   "source": [
    "grouped_dataframes = structure_data.groupby('district_name')\n",
    "district_dataframes = {name: group for name, group in grouped_dataframes}"
   ]
  },
  {
   "cell_type": "code",
   "execution_count": 54,
   "metadata": {},
   "outputs": [
    {
     "name": "stdout",
     "output_type": "stream",
     "text": [
      "Accuracy of Dhading: 0.68\n",
      "Accuracy of Dolakha: 0.76\n",
      "Accuracy of Gorkha: 0.65\n",
      "Accuracy of Kavrepalanchok: 0.56\n",
      "Accuracy of Makwanpur: 0.50\n",
      "Accuracy of Nuwakot: 0.77\n",
      "Accuracy of Okhaldhunga: 0.44\n",
      "Accuracy of Ramechhap: 0.54\n",
      "Accuracy of Rasuwa: 0.80\n",
      "Accuracy of Sindhuli: 0.45\n",
      "Accuracy of Sindhupalchok: 0.82\n"
     ]
    }
   ],
   "source": [
    "from sklearn.model_selection import train_test_split\n",
    "from sklearn.preprocessing import StandardScaler\n",
    "from sklearn.ensemble import RandomForestClassifier\n",
    "from sklearn.metrics import accuracy_score, classification_report, confusion_matrix\n",
    "scaler = StandardScaler()\n",
    "\n",
    "for name, group in grouped_dataframes:\n",
    "    X = group.drop(['district_name', 'damage_grade'], axis=1)\n",
    "    y = group['damage_grade']\n",
    "    X_train, X_test, y_train, y_test = train_test_split(X, y, test_size=0.2, random_state=42)\n",
    "    X_train_scaled = scaler.fit_transform(X_train)\n",
    "    X_test_scaled = scaler.transform(X_test)\n",
    "    rf_classifier = RandomForestClassifier(random_state=42, n_estimators=1000, max_depth=3, n_jobs=-1)\n",
    "    rf_classifier.fit(X_train_scaled, y_train)\n",
    "\n",
    "    y_pred = rf_classifier.predict(X_test_scaled)\n",
    "\n",
    "    accuracy = accuracy_score(y_test, y_pred)\n",
    "    print(f'Accuracy of {name}: {accuracy:.2f}')\n"
   ]
  },
  {
   "cell_type": "code",
   "execution_count": null,
   "metadata": {},
   "outputs": [],
   "source": []
  }
 ],
 "metadata": {
  "kernelspec": {
   "display_name": "Python 3 (ipykernel)",
   "language": "python",
   "name": "python3"
  },
  "language_info": {
   "codemirror_mode": {
    "name": "ipython",
    "version": 3
   },
   "file_extension": ".py",
   "mimetype": "text/x-python",
   "name": "python",
   "nbconvert_exporter": "python",
   "pygments_lexer": "ipython3",
   "version": "3.9.18"
  }
 },
 "nbformat": 4,
 "nbformat_minor": 2
}
